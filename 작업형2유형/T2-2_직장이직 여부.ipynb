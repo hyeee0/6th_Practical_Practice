{
 "cells": [
  {
   "cell_type": "code",
   "execution_count": 37,
   "metadata": {
    "collapsed": true
   },
   "outputs": [],
   "source": [
    "import pandas as pd\n",
    "import numpy as np"
   ]
  },
  {
   "cell_type": "code",
   "execution_count": 38,
   "outputs": [],
   "source": [
    "# 1. 데이터 로드\n",
    "\n",
    "x_train = pd.read_csv('../Data/T2/T2-2/X_train.csv')\n",
    "x_test = pd.read_csv('../Data/T2/T2-2/X_test.csv')\n",
    "y_train = pd.read_csv('../Data/T2/T2-2/y_train.csv')"
   ],
   "metadata": {
    "collapsed": false
   }
  },
  {
   "cell_type": "code",
   "execution_count": 39,
   "outputs": [
    {
     "data": {
      "text/plain": "(12452, 13)"
     },
     "execution_count": 39,
     "metadata": {},
     "output_type": "execute_result"
    }
   ],
   "source": [
    "x_train.shape"
   ],
   "metadata": {
    "collapsed": false
   }
  },
  {
   "cell_type": "code",
   "execution_count": 40,
   "outputs": [
    {
     "name": "stdout",
     "output_type": "stream",
     "text": [
      "<class 'pandas.core.frame.DataFrame'>\n",
      "RangeIndex: 12452 entries, 0 to 12451\n",
      "Data columns (total 13 columns):\n",
      " #   Column                  Non-Null Count  Dtype  \n",
      "---  ------                  --------------  -----  \n",
      " 0   enrollee_id             12452 non-null  int64  \n",
      " 1   city                    12452 non-null  object \n",
      " 2   city_development_index  12452 non-null  float64\n",
      " 3   gender                  9535 non-null   object \n",
      " 4   relevent_experience     12452 non-null  object \n",
      " 5   enrolled_university     12195 non-null  object \n",
      " 6   education_level         12137 non-null  object \n",
      " 7   major_discipline        10586 non-null  object \n",
      " 8   experience              12415 non-null  object \n",
      " 9   company_size            8600 non-null   object \n",
      " 10  company_type            8471 non-null   object \n",
      " 11  last_new_job            12179 non-null  object \n",
      " 12  training_hours          12452 non-null  int64  \n",
      "dtypes: float64(1), int64(2), object(10)\n",
      "memory usage: 1.2+ MB\n",
      "None\n",
      "--------------------------------------------------------------------------------\n",
      "<class 'pandas.core.frame.DataFrame'>\n",
      "RangeIndex: 6706 entries, 0 to 6705\n",
      "Data columns (total 13 columns):\n",
      " #   Column                  Non-Null Count  Dtype  \n",
      "---  ------                  --------------  -----  \n",
      " 0   enrollee_id             6706 non-null   int64  \n",
      " 1   city                    6706 non-null   object \n",
      " 2   city_development_index  6706 non-null   float64\n",
      " 3   gender                  5115 non-null   object \n",
      " 4   relevent_experience     6706 non-null   object \n",
      " 5   enrolled_university     6577 non-null   object \n",
      " 6   education_level         6561 non-null   object \n",
      " 7   major_discipline        5759 non-null   object \n",
      " 8   experience              6678 non-null   object \n",
      " 9   company_size            4620 non-null   object \n",
      " 10  company_type            4547 non-null   object \n",
      " 11  last_new_job            6556 non-null   object \n",
      " 12  training_hours          6706 non-null   int64  \n",
      "dtypes: float64(1), int64(2), object(10)\n",
      "memory usage: 681.2+ KB\n",
      "None\n",
      "--------------------------------------------------------------------------------\n",
      "<class 'pandas.core.frame.DataFrame'>\n",
      "RangeIndex: 12452 entries, 0 to 12451\n",
      "Data columns (total 2 columns):\n",
      " #   Column       Non-Null Count  Dtype  \n",
      "---  ------       --------------  -----  \n",
      " 0   enrollee_id  12452 non-null  int64  \n",
      " 1   target       12452 non-null  float64\n",
      "dtypes: float64(1), int64(1)\n",
      "memory usage: 194.7 KB\n",
      "None\n"
     ]
    }
   ],
   "source": [
    "print(x_train.info())\n",
    "print('-'*80)\n",
    "print(x_test.info())\n",
    "print('-'*80)\n",
    "print(y_train.info())"
   ],
   "metadata": {
    "collapsed": false
   }
  },
  {
   "cell_type": "code",
   "execution_count": 41,
   "outputs": [
    {
     "name": "stdout",
     "output_type": "stream",
     "text": [
      "enrollee_id               12452\n",
      "city                        122\n",
      "city_development_index       92\n",
      "gender                        3\n",
      "relevent_experience           2\n",
      "enrolled_university           3\n",
      "education_level               5\n",
      "major_discipline              6\n",
      "experience                   22\n",
      "company_size                  8\n",
      "company_type                  6\n",
      "last_new_job                  6\n",
      "training_hours              241\n",
      "dtype: int64\n",
      "--------------------------------------------------------------------------------\n",
      "enrollee_id               6706\n",
      "city                       118\n",
      "city_development_index      92\n",
      "gender                       3\n",
      "relevent_experience          2\n",
      "enrolled_university          3\n",
      "education_level              5\n",
      "major_discipline             6\n",
      "experience                  22\n",
      "company_size                 8\n",
      "company_type                 6\n",
      "last_new_job                 6\n",
      "training_hours             238\n",
      "dtype: int64\n",
      "--------------------------------------------------------------------------------\n"
     ]
    }
   ],
   "source": [
    "# 데이터에 고유값들의 수 확인\n",
    "print(x_train.nunique())\n",
    "print('-'*80)\n",
    "print(x_test.nunique())\n",
    "print('-'*80)"
   ],
   "metadata": {
    "collapsed": false
   }
  },
  {
   "cell_type": "code",
   "execution_count": 42,
   "outputs": [
    {
     "name": "stdout",
     "output_type": "stream",
     "text": [
      "enrollee_id                  0\n",
      "city                         0\n",
      "city_development_index       0\n",
      "gender                    2917\n",
      "relevent_experience          0\n",
      "enrolled_university        257\n",
      "education_level            315\n",
      "major_discipline          1866\n",
      "experience                  37\n",
      "company_size              3852\n",
      "company_type              3981\n",
      "last_new_job               273\n",
      "training_hours               0\n",
      "dtype: int64\n",
      "--------------------------------------------------------------------------------\n",
      "enrollee_id                  0\n",
      "city                         0\n",
      "city_development_index       0\n",
      "gender                    1591\n",
      "relevent_experience          0\n",
      "enrolled_university        129\n",
      "education_level            145\n",
      "major_discipline           947\n",
      "experience                  28\n",
      "company_size              2086\n",
      "company_type              2159\n",
      "last_new_job               150\n",
      "training_hours               0\n",
      "dtype: int64\n"
     ]
    }
   ],
   "source": [
    "# 결측치 확인\n",
    "print(x_train.isnull().sum())\n",
    "print('-'*80)\n",
    "print(x_test.isnull().sum())"
   ],
   "metadata": {
    "collapsed": false
   }
  },
  {
   "cell_type": "code",
   "execution_count": 43,
   "outputs": [
    {
     "data": {
      "text/plain": "array(['Male', nan, 'Female', 'Other'], dtype=object)"
     },
     "execution_count": 43,
     "metadata": {},
     "output_type": "execute_result"
    }
   ],
   "source": [
    "x_train.gender.unique() # NaN -> Other"
   ],
   "metadata": {
    "collapsed": false
   }
  },
  {
   "cell_type": "code",
   "execution_count": 44,
   "outputs": [
    {
     "data": {
      "text/plain": "array(['Full time course', 'no_enrollment', 'Part time course', nan],\n      dtype=object)"
     },
     "execution_count": 44,
     "metadata": {},
     "output_type": "execute_result"
    }
   ],
   "source": [
    "x_train.enrolled_university.unique() # NaN -> no_enrollment"
   ],
   "metadata": {
    "collapsed": false
   }
  },
  {
   "cell_type": "code",
   "execution_count": 45,
   "outputs": [
    {
     "data": {
      "text/plain": "array([nan, 'STEM', 'Other', 'Humanities', 'No Major', 'Business Degree',\n       'Arts'], dtype=object)"
     },
     "execution_count": 45,
     "metadata": {},
     "output_type": "execute_result"
    }
   ],
   "source": [
    "x_train.major_discipline.unique() # NaN -> No Major"
   ],
   "metadata": {
    "collapsed": false
   }
  },
  {
   "cell_type": "code",
   "execution_count": 46,
   "outputs": [
    {
     "name": "stdout",
     "output_type": "stream",
     "text": [
      "['5' '10' '>20' '6' '14' '20' '7' '9' '8' '4' '3' '13' '16' '2' '12' '15'\n",
      " '11' '1' '<1' '17' '18' nan '19']\n"
     ]
    }
   ],
   "source": [
    "print(x_train.experience.unique()) # nan -> 0"
   ],
   "metadata": {
    "collapsed": false
   }
  },
  {
   "cell_type": "code",
   "execution_count": 47,
   "outputs": [
    {
     "data": {
      "text/plain": "array(['100-500', nan, '50-99', '10/49', '10000+', '1000-4999', '<10',\n       '500-999', '5000-9999'], dtype=object)"
     },
     "execution_count": 47,
     "metadata": {},
     "output_type": "execute_result"
    }
   ],
   "source": [
    "x_train.company_size.unique() # NaN -> <10"
   ],
   "metadata": {
    "collapsed": false
   }
  },
  {
   "cell_type": "code",
   "execution_count": 48,
   "outputs": [
    {
     "data": {
      "text/plain": "array(['Pvt Ltd', nan, 'Public Sector', 'NGO', 'Funded Startup',\n       'Early Stage Startup', 'Other'], dtype=object)"
     },
     "execution_count": 48,
     "metadata": {},
     "output_type": "execute_result"
    }
   ],
   "source": [
    "x_train.company_type.unique() # NaN -> Other"
   ],
   "metadata": {
    "collapsed": false
   }
  },
  {
   "cell_type": "code",
   "execution_count": 49,
   "outputs": [
    {
     "data": {
      "text/plain": "array(['1', '>4', 'never', '2', '4', '3', nan], dtype=object)"
     },
     "execution_count": 49,
     "metadata": {},
     "output_type": "execute_result"
    }
   ],
   "source": [
    "x_train.last_new_job.unique() # NaN -> never"
   ],
   "metadata": {
    "collapsed": false
   }
  },
  {
   "cell_type": "code",
   "execution_count": 50,
   "outputs": [],
   "source": [
    "x_train.gender = x_train.gender.fillna('Other')\n",
    "x_train.enrolled_university = x_train.enrolled_university.fillna('no_enrollment')\n",
    "x_train.major_discipline = x_train.major_discipline.fillna('No Major')\n",
    "x_train.experience = x_train.experience.fillna('0')\n",
    "x_train.company_size = x_train.company_size.fillna('<10')\n",
    "x_train.company_type = x_train.company_type.fillna('Other')\n",
    "x_train.last_new_job = x_train.last_new_job.fillna('never')\n",
    "x_train.education_level = x_train.education_level.fillna('Primary School')"
   ],
   "metadata": {
    "collapsed": false
   }
  },
  {
   "cell_type": "code",
   "execution_count": 51,
   "outputs": [],
   "source": [
    "y_train = y_train[['target']]"
   ],
   "metadata": {
    "collapsed": false
   }
  },
  {
   "cell_type": "code",
   "execution_count": 52,
   "outputs": [],
   "source": [
    "x_train.drop('enrollee_id', axis=1, inplace=True)"
   ],
   "metadata": {
    "collapsed": false
   }
  },
  {
   "cell_type": "code",
   "execution_count": 53,
   "outputs": [
    {
     "name": "stdout",
     "output_type": "stream",
     "text": [
      "<class 'pandas.core.frame.DataFrame'>\n",
      "RangeIndex: 12452 entries, 0 to 12451\n",
      "Data columns (total 12 columns):\n",
      " #   Column                  Non-Null Count  Dtype  \n",
      "---  ------                  --------------  -----  \n",
      " 0   city                    12452 non-null  object \n",
      " 1   city_development_index  12452 non-null  float64\n",
      " 2   gender                  12452 non-null  object \n",
      " 3   relevent_experience     12452 non-null  object \n",
      " 4   enrolled_university     12452 non-null  object \n",
      " 5   education_level         12452 non-null  object \n",
      " 6   major_discipline        12452 non-null  object \n",
      " 7   experience              12452 non-null  object \n",
      " 8   company_size            12452 non-null  object \n",
      " 9   company_type            12452 non-null  object \n",
      " 10  last_new_job            12452 non-null  object \n",
      " 11  training_hours          12452 non-null  int64  \n",
      "dtypes: float64(1), int64(1), object(10)\n",
      "memory usage: 1.1+ MB\n"
     ]
    }
   ],
   "source": [
    "x_train.info()"
   ],
   "metadata": {
    "collapsed": false
   }
  },
  {
   "cell_type": "code",
   "execution_count": 54,
   "outputs": [],
   "source": [
    "x_train.gender = x_train.gender.astype('category').cat.codes\n",
    "x_train.enrolled_university = x_train.enrolled_university.astype('category').cat.codes\n",
    "x_train.major_discipline = x_train.major_discipline.astype('category').cat.codes\n",
    "x_train.experience = x_train.experience.astype('category').cat.codes\n",
    "x_train.company_size = x_train.company_size.astype('category').cat.codes\n",
    "x_train.company_type = x_train.company_type.astype('category').cat.codes\n",
    "x_train.last_new_job = x_train.last_new_job.astype('category').cat.codes\n",
    "x_train.education_level = x_train.education_level.astype('category').cat.codes\n",
    "x_train.relevent_experience = x_train.relevent_experience.astype('category').cat.codes\n",
    "x_train.city = x_train.city.astype('category').cat.codes"
   ],
   "metadata": {
    "collapsed": false
   }
  },
  {
   "cell_type": "code",
   "execution_count": 55,
   "outputs": [],
   "source": [
    "from sklearn.model_selection import train_test_split\n",
    "X_train, X_test, y_train, y_test = train_test_split(x_train, y_train, stratify=y_train, random_state=42)"
   ],
   "metadata": {
    "collapsed": false
   }
  },
  {
   "cell_type": "code",
   "execution_count": 56,
   "outputs": [
    {
     "name": "stdout",
     "output_type": "stream",
     "text": [
      "[16:47:33] WARNING: C:\\buildkite-agent\\builds\\buildkite-windows-cpu-autoscaling-group-i-0fdc6d574b9c0d168-1\\xgboost\\xgboost-ci-windows\\src\\learner.cc:767: \n",
      "Parameters: { \"min_samples_leaf\", \"min_samples_split\" } are not used.\n",
      "\n"
     ]
    },
    {
     "data": {
      "text/plain": "0.7995502730485062"
     },
     "execution_count": 56,
     "metadata": {},
     "output_type": "execute_result"
    }
   ],
   "source": [
    "from xgboost import XGBClassifier\n",
    "model = XGBClassifier(n_estimators = 400, learning_rate = 0.1, max_depth = 3, min_samples_leaf = 3, min_samples_split = 4)\n",
    "model.fit(X_train, y_train)\n",
    "pred_test = model.predict(X_test)\n",
    "model.score(X_test, y_test)"
   ],
   "metadata": {
    "collapsed": false
   }
  },
  {
   "cell_type": "code",
   "execution_count": 58,
   "outputs": [
    {
     "data": {
      "text/plain": "0.8101686120632232"
     },
     "execution_count": 58,
     "metadata": {},
     "output_type": "execute_result"
    }
   ],
   "source": [
    "pred_proba = model.predict_proba(X_test)[:,1]\n",
    "from sklearn.metrics import roc_auc_score\n",
    "roc_auc_score(y_test, pred_proba)"
   ],
   "metadata": {
    "collapsed": false
   }
  },
  {
   "cell_type": "code",
   "execution_count": 59,
   "outputs": [],
   "source": [
    "x_test.gender = x_test.gender.fillna('Other')\n",
    "x_test.enrolled_university = x_test.enrolled_university.fillna('no_enrollment')\n",
    "x_test.major_discipline = x_test.major_discipline.fillna('No Major')\n",
    "x_test.experience = x_test.experience.fillna('0')\n",
    "x_test.company_size = x_test.company_size.fillna('<10')\n",
    "x_test.company_type = x_test.company_type.fillna('Other')\n",
    "x_test.last_new_job = x_test.last_new_job.fillna('never')\n",
    "x_test.education_level = x_test.education_level.fillna('Primary School')\n",
    "\n",
    "x_test.gender = x_test.gender.astype('category').cat.codes\n",
    "x_test.enrolled_university = x_test.enrolled_university.astype('category').cat.codes\n",
    "x_test.major_discipline = x_test.major_discipline.astype('category').cat.codes\n",
    "x_test.experience = x_test.experience.astype('category').cat.codes\n",
    "x_test.company_size = x_test.company_size.astype('category').cat.codes\n",
    "x_test.company_type = x_test.company_type.astype('category').cat.codes\n",
    "x_test.last_new_job = x_test.last_new_job.astype('category').cat.codes\n",
    "x_test.education_level = x_test.education_level.astype('category').cat.codes\n",
    "x_test.relevent_experience = x_test.relevent_experience.astype('category').cat.codes\n",
    "x_test.city = x_test.city.astype('category').cat.codes"
   ],
   "metadata": {
    "collapsed": false
   }
  },
  {
   "cell_type": "code",
   "execution_count": 60,
   "outputs": [],
   "source": [
    "x_test.drop('enrollee_id', axis=1, inplace=True)"
   ],
   "metadata": {
    "collapsed": false
   }
  },
  {
   "cell_type": "code",
   "execution_count": 61,
   "outputs": [],
   "source": [
    "pred_test_test = model.predict(X_test)"
   ],
   "metadata": {
    "collapsed": false
   }
  },
  {
   "cell_type": "code",
   "execution_count": 62,
   "outputs": [],
   "source": [
    "pred_real = pd.DataFrame(pred_test_test, columns=['pred'])"
   ],
   "metadata": {
    "collapsed": false
   }
  },
  {
   "cell_type": "code",
   "execution_count": 63,
   "outputs": [
    {
     "data": {
      "text/plain": "       city  city_development_index  gender  relevent_experience   \n3346   63.0                   0.624     1.0                  1.0  \\\n12248  11.0                   0.550     2.0                  1.0   \n9168   26.0                   0.827     1.0                  0.0   \n4836    2.0                   0.887     1.0                  0.0   \n7932   82.0                   0.762     2.0                  1.0   \n...     ...                     ...     ...                  ...   \n3108    NaN                     NaN     NaN                  NaN   \n3109    NaN                     NaN     NaN                  NaN   \n3110    NaN                     NaN     NaN                  NaN   \n3111    NaN                     NaN     NaN                  NaN   \n3112    NaN                     NaN     NaN                  NaN   \n\n       enrolled_university  education_level  major_discipline  experience   \n3346                   0.0              1.0               3.0        17.0  \\\n12248                  2.0              2.0               4.0        17.0   \n9168                   0.0              0.0               5.0        14.0   \n4836                   0.0              0.0               5.0        16.0   \n7932                   0.0              0.0               5.0        16.0   \n...                    ...              ...               ...         ...   \n3108                   NaN              NaN               NaN         NaN   \n3109                   NaN              NaN               NaN         NaN   \n3110                   NaN              NaN               NaN         NaN   \n3111                   NaN              NaN               NaN         NaN   \n3112                   NaN              NaN               NaN         NaN   \n\n       company_size  company_type  last_new_job  training_hours  pred  \n3346            7.0           3.0           5.0            37.0   NaN  \n12248           7.0           3.0           0.0            21.0   NaN  \n9168            1.0           5.0           1.0            38.0   NaN  \n4836            0.0           4.0           0.0            34.0   NaN  \n7932            7.0           3.0           2.0            49.0   NaN  \n...             ...           ...           ...             ...   ...  \n3108            NaN           NaN           NaN             NaN   0.0  \n3109            NaN           NaN           NaN             NaN   1.0  \n3110            NaN           NaN           NaN             NaN   0.0  \n3111            NaN           NaN           NaN             NaN   0.0  \n3112            NaN           NaN           NaN             NaN   0.0  \n\n[5449 rows x 13 columns]",
      "text/html": "<div>\n<style scoped>\n    .dataframe tbody tr th:only-of-type {\n        vertical-align: middle;\n    }\n\n    .dataframe tbody tr th {\n        vertical-align: top;\n    }\n\n    .dataframe thead th {\n        text-align: right;\n    }\n</style>\n<table border=\"1\" class=\"dataframe\">\n  <thead>\n    <tr style=\"text-align: right;\">\n      <th></th>\n      <th>city</th>\n      <th>city_development_index</th>\n      <th>gender</th>\n      <th>relevent_experience</th>\n      <th>enrolled_university</th>\n      <th>education_level</th>\n      <th>major_discipline</th>\n      <th>experience</th>\n      <th>company_size</th>\n      <th>company_type</th>\n      <th>last_new_job</th>\n      <th>training_hours</th>\n      <th>pred</th>\n    </tr>\n  </thead>\n  <tbody>\n    <tr>\n      <th>3346</th>\n      <td>63.0</td>\n      <td>0.624</td>\n      <td>1.0</td>\n      <td>1.0</td>\n      <td>0.0</td>\n      <td>1.0</td>\n      <td>3.0</td>\n      <td>17.0</td>\n      <td>7.0</td>\n      <td>3.0</td>\n      <td>5.0</td>\n      <td>37.0</td>\n      <td>NaN</td>\n    </tr>\n    <tr>\n      <th>12248</th>\n      <td>11.0</td>\n      <td>0.550</td>\n      <td>2.0</td>\n      <td>1.0</td>\n      <td>2.0</td>\n      <td>2.0</td>\n      <td>4.0</td>\n      <td>17.0</td>\n      <td>7.0</td>\n      <td>3.0</td>\n      <td>0.0</td>\n      <td>21.0</td>\n      <td>NaN</td>\n    </tr>\n    <tr>\n      <th>9168</th>\n      <td>26.0</td>\n      <td>0.827</td>\n      <td>1.0</td>\n      <td>0.0</td>\n      <td>0.0</td>\n      <td>0.0</td>\n      <td>5.0</td>\n      <td>14.0</td>\n      <td>1.0</td>\n      <td>5.0</td>\n      <td>1.0</td>\n      <td>38.0</td>\n      <td>NaN</td>\n    </tr>\n    <tr>\n      <th>4836</th>\n      <td>2.0</td>\n      <td>0.887</td>\n      <td>1.0</td>\n      <td>0.0</td>\n      <td>0.0</td>\n      <td>0.0</td>\n      <td>5.0</td>\n      <td>16.0</td>\n      <td>0.0</td>\n      <td>4.0</td>\n      <td>0.0</td>\n      <td>34.0</td>\n      <td>NaN</td>\n    </tr>\n    <tr>\n      <th>7932</th>\n      <td>82.0</td>\n      <td>0.762</td>\n      <td>2.0</td>\n      <td>1.0</td>\n      <td>0.0</td>\n      <td>0.0</td>\n      <td>5.0</td>\n      <td>16.0</td>\n      <td>7.0</td>\n      <td>3.0</td>\n      <td>2.0</td>\n      <td>49.0</td>\n      <td>NaN</td>\n    </tr>\n    <tr>\n      <th>...</th>\n      <td>...</td>\n      <td>...</td>\n      <td>...</td>\n      <td>...</td>\n      <td>...</td>\n      <td>...</td>\n      <td>...</td>\n      <td>...</td>\n      <td>...</td>\n      <td>...</td>\n      <td>...</td>\n      <td>...</td>\n      <td>...</td>\n    </tr>\n    <tr>\n      <th>3108</th>\n      <td>NaN</td>\n      <td>NaN</td>\n      <td>NaN</td>\n      <td>NaN</td>\n      <td>NaN</td>\n      <td>NaN</td>\n      <td>NaN</td>\n      <td>NaN</td>\n      <td>NaN</td>\n      <td>NaN</td>\n      <td>NaN</td>\n      <td>NaN</td>\n      <td>0.0</td>\n    </tr>\n    <tr>\n      <th>3109</th>\n      <td>NaN</td>\n      <td>NaN</td>\n      <td>NaN</td>\n      <td>NaN</td>\n      <td>NaN</td>\n      <td>NaN</td>\n      <td>NaN</td>\n      <td>NaN</td>\n      <td>NaN</td>\n      <td>NaN</td>\n      <td>NaN</td>\n      <td>NaN</td>\n      <td>1.0</td>\n    </tr>\n    <tr>\n      <th>3110</th>\n      <td>NaN</td>\n      <td>NaN</td>\n      <td>NaN</td>\n      <td>NaN</td>\n      <td>NaN</td>\n      <td>NaN</td>\n      <td>NaN</td>\n      <td>NaN</td>\n      <td>NaN</td>\n      <td>NaN</td>\n      <td>NaN</td>\n      <td>NaN</td>\n      <td>0.0</td>\n    </tr>\n    <tr>\n      <th>3111</th>\n      <td>NaN</td>\n      <td>NaN</td>\n      <td>NaN</td>\n      <td>NaN</td>\n      <td>NaN</td>\n      <td>NaN</td>\n      <td>NaN</td>\n      <td>NaN</td>\n      <td>NaN</td>\n      <td>NaN</td>\n      <td>NaN</td>\n      <td>NaN</td>\n      <td>0.0</td>\n    </tr>\n    <tr>\n      <th>3112</th>\n      <td>NaN</td>\n      <td>NaN</td>\n      <td>NaN</td>\n      <td>NaN</td>\n      <td>NaN</td>\n      <td>NaN</td>\n      <td>NaN</td>\n      <td>NaN</td>\n      <td>NaN</td>\n      <td>NaN</td>\n      <td>NaN</td>\n      <td>NaN</td>\n      <td>0.0</td>\n    </tr>\n  </tbody>\n</table>\n<p>5449 rows × 13 columns</p>\n</div>"
     },
     "execution_count": 63,
     "metadata": {},
     "output_type": "execute_result"
    }
   ],
   "source": [
    "submission = pd.concat([X_test, pred_real], axis=1)\n",
    "submission"
   ],
   "metadata": {
    "collapsed": false
   }
  },
  {
   "cell_type": "code",
   "execution_count": null,
   "outputs": [],
   "source": [],
   "metadata": {
    "collapsed": false
   }
  }
 ],
 "metadata": {
  "kernelspec": {
   "display_name": "Python 3",
   "language": "python",
   "name": "python3"
  },
  "language_info": {
   "codemirror_mode": {
    "name": "ipython",
    "version": 2
   },
   "file_extension": ".py",
   "mimetype": "text/x-python",
   "name": "python",
   "nbconvert_exporter": "python",
   "pygments_lexer": "ipython2",
   "version": "2.7.6"
  }
 },
 "nbformat": 4,
 "nbformat_minor": 0
}
